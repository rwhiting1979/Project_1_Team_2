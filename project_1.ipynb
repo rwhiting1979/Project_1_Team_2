{
 "cells": [
  {
   "cell_type": "code",
   "execution_count": 3,
   "id": "f3b99fa0-6c8c-4ee8-902d-4767b3a0724b",
   "metadata": {},
   "outputs": [],
   "source": [
    "import pandas as pd\n",
    "import matplotlib"
   ]
  },
  {
   "cell_type": "code",
   "execution_count": 4,
   "id": "4333ef35-9793-4367-b4e0-bc4a46dc0fe6",
   "metadata": {},
   "outputs": [
    {
     "ename": "AttributeError",
     "evalue": "module 'pandas' has no attribute 'read_csv'",
     "output_type": "error",
     "traceback": [
      "\u001b[1;31m---------------------------------------------------------------------------\u001b[0m",
      "\u001b[1;31mAttributeError\u001b[0m                            Traceback (most recent call last)",
      "\u001b[1;32m~\\AppData\\Local\\Temp\\ipykernel_57024\\808991529.py\u001b[0m in \u001b[0;36m<module>\u001b[1;34m\u001b[0m\n\u001b[0;32m      1\u001b[0m \u001b[1;31m# Load the data into a pandas dataframe\u001b[0m\u001b[1;33m\u001b[0m\u001b[1;33m\u001b[0m\u001b[1;33m\u001b[0m\u001b[0m\n\u001b[1;32m----> 2\u001b[1;33m \u001b[0mdf_grt\u001b[0m \u001b[1;33m=\u001b[0m \u001b[0mpd\u001b[0m\u001b[1;33m.\u001b[0m\u001b[0mread_csv\u001b[0m\u001b[1;33m(\u001b[0m\u001b[1;34m\"GRT-USD.csv\"\u001b[0m\u001b[1;33m)\u001b[0m\u001b[1;33m[\u001b[0m\u001b[1;33m[\u001b[0m\u001b[1;34m\"Date\"\u001b[0m\u001b[1;33m,\u001b[0m \u001b[1;34m\"Close\"\u001b[0m\u001b[1;33m]\u001b[0m\u001b[1;33m]\u001b[0m\u001b[1;33m.\u001b[0m\u001b[0mrename\u001b[0m\u001b[1;33m(\u001b[0m\u001b[0mcolumns\u001b[0m\u001b[1;33m=\u001b[0m\u001b[1;33m{\u001b[0m\u001b[1;34m\"Date\"\u001b[0m\u001b[1;33m:\u001b[0m \u001b[1;34m\"ds\"\u001b[0m\u001b[1;33m,\u001b[0m \u001b[1;34m\"Close\"\u001b[0m\u001b[1;33m:\u001b[0m \u001b[1;34m\"y\"\u001b[0m\u001b[1;33m}\u001b[0m\u001b[1;33m)\u001b[0m\u001b[1;33m.\u001b[0m\u001b[0mastype\u001b[0m\u001b[1;33m(\u001b[0m\u001b[1;33m{\u001b[0m\u001b[1;34m\"y\"\u001b[0m\u001b[1;33m:\u001b[0m \u001b[1;34m\"float\"\u001b[0m\u001b[1;33m}\u001b[0m\u001b[1;33m)\u001b[0m\u001b[1;33m\u001b[0m\u001b[1;33m\u001b[0m\u001b[0m\n\u001b[0m\u001b[0;32m      3\u001b[0m \u001b[0mdf_grt\u001b[0m\u001b[1;33m[\u001b[0m\u001b[1;34m\"ds\"\u001b[0m\u001b[1;33m]\u001b[0m \u001b[1;33m=\u001b[0m \u001b[0mpd\u001b[0m\u001b[1;33m.\u001b[0m\u001b[0mto_datetime\u001b[0m\u001b[1;33m(\u001b[0m\u001b[0mdf_grt\u001b[0m\u001b[1;33m[\u001b[0m\u001b[1;34m\"ds\"\u001b[0m\u001b[1;33m]\u001b[0m\u001b[1;33m)\u001b[0m\u001b[1;33m\u001b[0m\u001b[1;33m\u001b[0m\u001b[0m\n\u001b[0;32m      4\u001b[0m \u001b[1;33m\u001b[0m\u001b[0m\n\u001b[0;32m      5\u001b[0m \u001b[0mdf_fet\u001b[0m \u001b[1;33m=\u001b[0m \u001b[0mpd\u001b[0m\u001b[1;33m.\u001b[0m\u001b[0mread_csv\u001b[0m\u001b[1;33m(\u001b[0m\u001b[1;34m\"FET-USD.csv\"\u001b[0m\u001b[1;33m)\u001b[0m\u001b[1;33m[\u001b[0m\u001b[1;33m[\u001b[0m\u001b[1;34m\"Date\"\u001b[0m\u001b[1;33m,\u001b[0m \u001b[1;34m\"Close\"\u001b[0m\u001b[1;33m]\u001b[0m\u001b[1;33m]\u001b[0m\u001b[1;33m.\u001b[0m\u001b[0mrename\u001b[0m\u001b[1;33m(\u001b[0m\u001b[0mcolumns\u001b[0m\u001b[1;33m=\u001b[0m\u001b[1;33m{\u001b[0m\u001b[1;34m\"Date\"\u001b[0m\u001b[1;33m:\u001b[0m \u001b[1;34m\"ds\"\u001b[0m\u001b[1;33m,\u001b[0m \u001b[1;34m\"Close\"\u001b[0m\u001b[1;33m:\u001b[0m \u001b[1;34m\"y\"\u001b[0m\u001b[1;33m}\u001b[0m\u001b[1;33m)\u001b[0m\u001b[1;33m.\u001b[0m\u001b[0mastype\u001b[0m\u001b[1;33m(\u001b[0m\u001b[1;33m{\u001b[0m\u001b[1;34m\"y\"\u001b[0m\u001b[1;33m:\u001b[0m \u001b[1;34m\"float\"\u001b[0m\u001b[1;33m}\u001b[0m\u001b[1;33m)\u001b[0m\u001b[1;33m\u001b[0m\u001b[1;33m\u001b[0m\u001b[0m\n",
      "\u001b[1;31mAttributeError\u001b[0m: module 'pandas' has no attribute 'read_csv'"
     ]
    }
   ],
   "source": [
    "# Load the data into a pandas dataframe\n",
    "df_grt = pd.read_csv(\"GRT-USD.csv\")[[\"Date\", \"Close\"]].rename(columns={\"Date\": \"ds\", \"Close\": \"y\"}).astype({\"y\": \"float\"})\n",
    "df_grt[\"ds\"] = pd.to_datetime(df_grt[\"ds\"])\n",
    "\n",
    "df_fet = pd.read_csv(\"FET-USD.csv\")[[\"Date\", \"Close\"]].rename(columns={\"Date\": \"ds\", \"Close\": \"y\"}).astype({\"y\": \"float\"})\n",
    "df_fet[\"ds\"] = pd.to_datetime(df_fet[\"ds\"])\n",
    "\n",
    "df_ocean = pd.read_csv(\"OCEAN-USD.csv\")[[\"Date\", \"Close\"]].rename(columns={\"Date\": \"ds\", \"Close\": \"y\"}).astype({\"y\": \"float\"})\n",
    "df_ocean[\"ds\"] = pd.to_datetime(df_ocean[\"ds\"])\n",
    "\n",
    "df = pd.read_csv('data.csv')\n",
    "\n",
    "\n",
    "# Initialize the Prophet model and fit it to the data for each cryptocurrency\n",
    "model_grt = Prophet()\n",
    "model_grt.fit(df_grt)\n",
    "\n",
    "model_fet = Prophet()\n",
    "model_fet.fit(df_fet)\n",
    "\n",
    "model_ocean = Prophet()\n",
    "model_ocean.fit(df_ocean)\n",
    "\n",
    "# Create a future dataframe to hold the predicted prices for each cryptocurrency\n",
    "future_grt = model_grt.make_future_dataframe(periods=365 * 19, freq=\"D\")\n",
    "future_fet = model_fet.make_future_dataframe(periods=365 * 19, freq=\"D\")\n",
    "future_ocean = model_ocean.make_future_dataframe(periods=365 * 19, freq=\"D\")\n",
    "\n",
    "# Make predictions for each cryptocurrency using the Prophet model\n",
    "forecast_grt = model_grt.predict(future_grt)\n",
    "forecast_fet = model_fet.predict(future_fet)\n",
    "forecast_ocean = model_ocean.predict(future_ocean)\n",
    "\n",
    "# Plot the predicted prices for each cryptocurrency\n",
    "fig_grt = model_grt.plot(forecast_grt, xlabel=\"Date\", ylabel=\"Price\")\n",
    "fig_grt.suptitle(\"The Graph Price Forecast\")\n",
    "\n",
    "fig_fet = model_fet.plot(forecast_fet, xlabel=\"Date\", ylabel=\"Price\")\n",
    "fig_fet.suptitle(\"Fetch AI Price Forecast\")\n",
    "\n",
    "fig_ocean = model_ocean.plot(forecast_ocean, xlabel=\"Date\", ylabel=\"Price\")\n",
    "fig_ocean.suptitle(\"Ocean Protocol Price Forecast\")\n",
    "\n",
    "# Show the plots\n",
    "fig_grt * fig_fet * fig_ocean\n"
   ]
  },
  {
   "cell_type": "code",
   "execution_count": null,
   "id": "e1475c30-c220-4576-8e09-a1206f48075a",
   "metadata": {},
   "outputs": [],
   "source": []
  }
 ],
 "metadata": {
  "kernelspec": {
   "display_name": "Python 3 (ipykernel)",
   "language": "python",
   "name": "python3"
  },
  "language_info": {
   "codemirror_mode": {
    "name": "ipython",
    "version": 3
   },
   "file_extension": ".py",
   "mimetype": "text/x-python",
   "name": "python",
   "nbconvert_exporter": "python",
   "pygments_lexer": "ipython3",
   "version": "3.7.13"
  }
 },
 "nbformat": 4,
 "nbformat_minor": 5
}
